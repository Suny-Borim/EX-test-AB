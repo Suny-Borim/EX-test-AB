{
  "cells": [
    {
      "cell_type": "markdown",
      "metadata": {
        "id": "WIjoaqwHoUei"
      },
      "source": [
        "Alunas: Aline Sousa Rezende e Suny Borim Fernandes"
      ]
    },
    {
      "cell_type": "markdown",
      "metadata": {
        "id": "6_XdA_WTtAf6"
      },
      "source": [
        "parte 1"
      ]
    },
    {
      "cell_type": "code",
      "execution_count": 12,
      "metadata": {
        "colab": {
          "base_uri": "https://localhost:8080/"
        },
        "id": "r_qSAd9joab_",
        "outputId": "55b82adc-41ca-4a42-9389-a6023f65dd68"
      },
      "outputs": [
        {
          "name": "stdout",
          "output_type": "stream",
          "text": [
            "  Confiança Potência  Tamanho da Amostra (N)\n",
            "0    95.00%   80.00%                  2159.0\n",
            "1    95.00%   90.00%                  2890.0\n",
            "2    99.00%   80.00%                  3212.0\n",
            "3    99.00%   90.00%                  4092.0\n",
            "4    99.99%   80.00%                  6159.0\n",
            "5    99.99%   90.00%                  7357.0\n"
          ]
        },
        {
          "name": "stderr",
          "output_type": "stream",
          "text": [
            "<ipython-input-12-df0fb242df8a>:25: FutureWarning: The behavior of DataFrame concatenation with empty or all-NA entries is deprecated. In a future version, this will no longer exclude empty or all-NA columns when determining the result dtypes. To retain the old behavior, exclude the relevant entries before the concat operation.\n",
            "  resultados = pd.concat([resultados, pd.DataFrame({\"Confiança\": [f\"{(1-alpha)*100:.2f}%\"],\n"
          ]
        }
      ],
      "source": [
        "import numpy as np\n",
        "import scipy.stats as stats\n",
        "import pandas as pd\n",
        "\n",
        "\n",
        "def calcular_tamanho_amostra(p1, p2, alpha, beta):\n",
        "    Z_alpha = stats.norm.ppf(1 - alpha/2) \n",
        "    Z_beta = stats.norm.ppf(1 - beta)      \n",
        "    N = ((Z_alpha + Z_beta)**2 * (p1 * (1 - p1) + p2 * (1 - p2))) / (p2 - p1)**2\n",
        "    return np.ceil(N)\n",
        "\n",
        "\n",
        "p1 = 0.13  \n",
        "p2 = 0.16  \n",
        "confianças = [0.05, 0.01, 0.0001] \n",
        "potencias = [0.2, 0.1]              \n",
        "\n",
        "\n",
        "resultados = pd.DataFrame(columns=[\"Confiança\", \"Potência\", \"Tamanho da Amostra (N)\"])\n",
        "\n",
        "\n",
        "for alpha in confianças:\n",
        "    for beta in potencias:\n",
        "        N = calcular_tamanho_amostra(p1, p2, alpha, beta)\n",
        "        resultados = pd.concat([resultados, pd.DataFrame({\"Confiança\": [f\"{(1-alpha)*100:.2f}%\"],\n",
        "                                                            \"Potência\": [f\"{(1-beta)*100:.2f}%\"],\n",
        "                                                            \"Tamanho da Amostra (N)\": [N]})],\n",
        "                                ignore_index=True)\n",
        "\n",
        "\n",
        "print(resultados)"
      ]
    },
    {
      "cell_type": "markdown",
      "metadata": {
        "id": "lbHFnM79tDEn"
      },
      "source": [
        "parte 2"
      ]
    },
    {
      "cell_type": "code",
      "execution_count": 13,
      "metadata": {
        "colab": {
          "base_uri": "https://localhost:8080/"
        },
        "id": "5h0EW1yFpXce",
        "outputId": "e295f7a6-b183-42a3-fd24-0d2eab37d986"
      },
      "outputs": [
        {
          "name": "stdout",
          "output_type": "stream",
          "text": [
            "Estatística qui-quadrado: 27.7745\n",
            "p-valor: 0.0000\n",
            "Graus de liberdade: 1\n",
            "Frequências esperadas:\n",
            "[[ 245.21907395 1078.78092605]\n",
            " [  22.78092605  100.21907395]]\n",
            "\n",
            "Decisão: Rejeitamos a hipótese nula H0.\n",
            "Consequência: Pode haver uma diferença significativa entre as taxas de conversão.\n"
          ]
        }
      ],
      "source": [
        "import numpy as np\n",
        "import scipy.stats as stats\n",
        "\n",
        "\n",
        "dados = np.array([[223, 1324 - 223], \n",
        "                  [45, 123 - 45]])   \n",
        "\n",
        "\n",
        "chi2_stat, p_val, dof, expected = stats.chi2_contingency(dados)\n",
        "\n",
        "\n",
        "print(f\"Estatística qui-quadrado: {chi2_stat:.4f}\")\n",
        "print(f\"p-valor: {p_val:.4f}\")\n",
        "print(f\"Graus de liberdade: {dof}\")\n",
        "print(f\"Frequências esperadas:\\n{expected}\")\n",
        "\n",
        "\n",
        "alpha = 0.05\n",
        "\n",
        "\n",
        "if p_val <= alpha:\n",
        "    print(\"\\nDecisão: Rejeitamos a hipótese nula H0.\")\n",
        "    print(\"Consequência: Pode haver uma diferença significativa entre as taxas de conversão.\")\n",
        "else:\n",
        "    print(\"\\nDecisão: Não rejeitamos a hipótese nula H0.\")\n",
        "    print(\"Consequência: Não encontramos evidências suficientes para afirmar uma diferença significativa.\")\n"
      ]
    }
  ],
  "metadata": {
    "colab": {
      "provenance": []
    },
    "kernelspec": {
      "display_name": "Python 3",
      "name": "python3"
    },
    "language_info": {
      "name": "python"
    }
  },
  "nbformat": 4,
  "nbformat_minor": 0
}
